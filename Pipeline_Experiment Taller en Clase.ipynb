{
 "cells": [
  {
   "cell_type": "markdown",
   "metadata": {
    "colab_type": "text",
    "id": "view-in-github"
   },
   "source": [
    "<a href=\"https://colab.research.google.com/github/armandoordonez/eda_couse/blob/main/Pipeline_Experiment.ipynb\" target=\"_parent\"><img src=\"https://colab.research.google.com/assets/colab-badge.svg\" alt=\"Open In Colab\"/></a>"
   ]
  },
  {
   "cell_type": "markdown",
   "metadata": {
    "id": "U91hkLpi-SBV"
   },
   "source": [
    "#Imports"
   ]
  },
  {
   "cell_type": "code",
   "execution_count": 1,
   "metadata": {
    "id": "8cjFGNq0P_re"
   },
   "outputs": [],
   "source": [
    "# Based on https://towardsdatascience.com/pipelines-custom-transformers-in-scikit-learn-the-step-by-step-guide-with-python-code-4a7d9b068156\n",
    "\n",
    "import numpy as np\n",
    "import pandas as pd\n",
    "import warnings\n",
    "warnings.filterwarnings('ignore')\n",
    "from sklearn.metrics import mean_squared_error\n",
    "\n",
    "from sklearn.preprocessing import StandardScaler, PowerTransformer\n",
    "from sklearn.compose import TransformedTargetRegressor\n",
    "from sklearn.pipeline import FeatureUnion, Pipeline, make_pipeline\n",
    "from sklearn.base import BaseEstimator, TransformerMixin\n",
    "\n",
    "from sklearn.linear_model import LinearRegression"
   ]
  },
  {
   "cell_type": "markdown",
   "metadata": {
    "id": "aZ7KzRqK-KHL"
   },
   "source": [
    "#Pipeline Experiment"
   ]
  },
  {
   "cell_type": "code",
   "execution_count": 4,
   "metadata": {
    "id": "D13TnX_2_mLi"
   },
   "outputs": [],
   "source": [
    "X1 = np.array([1, 2, 3, 4, 5,7,9,4])\n",
    "X2 = np.array([2, 3, 4, 5, 6,8,3,6])\n",
    "y = X1 + X2**2\n",
    "\n",
    "# Crear un DataFrame con las columnas X1, X2 y y\n",
    "data = {'X1': X1, 'X2': X2, 'y': y}\n",
    "df = pd.DataFrame(data)\n",
    "\n"
   ]
  },
  {
   "cell_type": "code",
   "execution_count": 5,
   "metadata": {
    "colab": {
     "base_uri": "https://localhost:8080/",
     "height": 301
    },
    "id": "WZWUhfKiArrW",
    "outputId": "b85089a9-cc68-464b-b02d-7a1b56c7a2f8"
   },
   "outputs": [
    {
     "data": {
      "text/html": [
       "<div>\n",
       "<style scoped>\n",
       "    .dataframe tbody tr th:only-of-type {\n",
       "        vertical-align: middle;\n",
       "    }\n",
       "\n",
       "    .dataframe tbody tr th {\n",
       "        vertical-align: top;\n",
       "    }\n",
       "\n",
       "    .dataframe thead th {\n",
       "        text-align: right;\n",
       "    }\n",
       "</style>\n",
       "<table border=\"1\" class=\"dataframe\">\n",
       "  <thead>\n",
       "    <tr style=\"text-align: right;\">\n",
       "      <th></th>\n",
       "      <th>X1</th>\n",
       "      <th>X2</th>\n",
       "      <th>y</th>\n",
       "    </tr>\n",
       "  </thead>\n",
       "  <tbody>\n",
       "    <tr>\n",
       "      <th>0</th>\n",
       "      <td>1</td>\n",
       "      <td>2</td>\n",
       "      <td>5</td>\n",
       "    </tr>\n",
       "    <tr>\n",
       "      <th>1</th>\n",
       "      <td>2</td>\n",
       "      <td>3</td>\n",
       "      <td>11</td>\n",
       "    </tr>\n",
       "    <tr>\n",
       "      <th>2</th>\n",
       "      <td>3</td>\n",
       "      <td>4</td>\n",
       "      <td>19</td>\n",
       "    </tr>\n",
       "    <tr>\n",
       "      <th>3</th>\n",
       "      <td>4</td>\n",
       "      <td>5</td>\n",
       "      <td>29</td>\n",
       "    </tr>\n",
       "    <tr>\n",
       "      <th>4</th>\n",
       "      <td>5</td>\n",
       "      <td>6</td>\n",
       "      <td>41</td>\n",
       "    </tr>\n",
       "    <tr>\n",
       "      <th>5</th>\n",
       "      <td>7</td>\n",
       "      <td>8</td>\n",
       "      <td>71</td>\n",
       "    </tr>\n",
       "    <tr>\n",
       "      <th>6</th>\n",
       "      <td>9</td>\n",
       "      <td>3</td>\n",
       "      <td>18</td>\n",
       "    </tr>\n",
       "    <tr>\n",
       "      <th>7</th>\n",
       "      <td>4</td>\n",
       "      <td>6</td>\n",
       "      <td>40</td>\n",
       "    </tr>\n",
       "  </tbody>\n",
       "</table>\n",
       "</div>"
      ],
      "text/plain": [
       "   X1  X2   y\n",
       "0   1   2   5\n",
       "1   2   3  11\n",
       "2   3   4  19\n",
       "3   4   5  29\n",
       "4   5   6  41\n",
       "5   7   8  71\n",
       "6   9   3  18\n",
       "7   4   6  40"
      ]
     },
     "execution_count": 5,
     "metadata": {},
     "output_type": "execute_result"
    }
   ],
   "source": [
    "df"
   ]
  },
  {
   "cell_type": "code",
   "execution_count": 6,
   "metadata": {
    "id": "fhnmaUB-Ar2M"
   },
   "outputs": [],
   "source": [
    "# Separamos en train y test\n",
    "\n",
    "train = df.iloc[:6]\n",
    "test = df.iloc[6:]\n",
    "\n",
    "train_X = train.drop('y', axis=1)\n",
    "train_y = train.y\n",
    "\n",
    "test_X = test.drop('y', axis=1)\n",
    "test_y = test.y"
   ]
  },
  {
   "cell_type": "code",
   "execution_count": 7,
   "metadata": {
    "colab": {
     "base_uri": "https://localhost:8080/",
     "height": 112
    },
    "id": "kH0rMqVPD5Dr",
    "outputId": "09294a99-47f1-4fd2-e7b4-da5806255ae6"
   },
   "outputs": [
    {
     "data": {
      "text/html": [
       "<div>\n",
       "<style scoped>\n",
       "    .dataframe tbody tr th:only-of-type {\n",
       "        vertical-align: middle;\n",
       "    }\n",
       "\n",
       "    .dataframe tbody tr th {\n",
       "        vertical-align: top;\n",
       "    }\n",
       "\n",
       "    .dataframe thead th {\n",
       "        text-align: right;\n",
       "    }\n",
       "</style>\n",
       "<table border=\"1\" class=\"dataframe\">\n",
       "  <thead>\n",
       "    <tr style=\"text-align: right;\">\n",
       "      <th></th>\n",
       "      <th>X1</th>\n",
       "      <th>X2</th>\n",
       "    </tr>\n",
       "  </thead>\n",
       "  <tbody>\n",
       "    <tr>\n",
       "      <th>6</th>\n",
       "      <td>9</td>\n",
       "      <td>3</td>\n",
       "    </tr>\n",
       "    <tr>\n",
       "      <th>7</th>\n",
       "      <td>4</td>\n",
       "      <td>6</td>\n",
       "    </tr>\n",
       "  </tbody>\n",
       "</table>\n",
       "</div>"
      ],
      "text/plain": [
       "   X1  X2\n",
       "6   9   3\n",
       "7   4   6"
      ]
     },
     "execution_count": 7,
     "metadata": {},
     "output_type": "execute_result"
    }
   ],
   "source": [
    "test_X"
   ]
  },
  {
   "cell_type": "code",
   "execution_count": 8,
   "metadata": {
    "colab": {
     "base_uri": "https://localhost:8080/"
    },
    "id": "Wd_emlUpBbig",
    "outputId": "50ae565f-070b-4d84-bcca-5cd066393c6f"
   },
   "outputs": [
    {
     "name": "stdout",
     "output_type": "stream",
     "text": [
      "\n",
      "[49.5 38.5]\n",
      "RMSE: 22.299103120977758\n",
      "\n"
     ]
    }
   ],
   "source": [
    "#  verificacmos si la regresión lineal puede predecir correctamente\n",
    "\n",
    "m1 = LinearRegression()\n",
    "fit1 = m1.fit(train_X, train_y)\n",
    "preds = fit1.predict(test_X)\n",
    "print(f\"\\n{preds}\")\n",
    "print(f\"RMSE: {np.sqrt(mean_squared_error(test_y, preds))}\\n\")"
   ]
  },
  {
   "cell_type": "code",
   "execution_count": 9,
   "metadata": {
    "colab": {
     "base_uri": "https://localhost:8080/"
    },
    "id": "zQayYrzmDWE7",
    "outputId": "823988d6-8fef-4193-ff77-4ad0758e69d1"
   },
   "outputs": [
    {
     "name": "stdout",
     "output_type": "stream",
     "text": [
      "   X1        X2\n",
      "6   9  3.464102\n",
      "7   4  4.898979\n",
      "\n",
      "[210.83746596  13.20265974]\n",
      "RMSE: 137.66696358393065\n",
      "\n"
     ]
    }
   ],
   "source": [
    "# Las predicciones no son malas, pero hagamos algunos cálculos sobre las características de entrada para mejorar\n",
    "# ¿Qué pasa si sacamos la raíz cuadrada de X2 y multiplicamos por 2?\n",
    "\n",
    "train_X.X2 = 2 * np.sqrt(train_X.X2)\n",
    "\n",
    "test_X.X2 = 2 * np.sqrt(test_X.X2)\n",
    "\n",
    "print(test_X)\n",
    "\n",
    "m2 = LinearRegression()\n",
    "\n",
    "fit2 = m2.fit(train_X, train_y)\n",
    "\n",
    "preds = fit2.predict(test_X)\n",
    "\n",
    "print(f\"\\n{preds}\")\n",
    "\n",
    "print(f\"RMSE: {np.sqrt(mean_squared_error(test_y, preds))}\\n\")"
   ]
  },
  {
   "cell_type": "code",
   "execution_count": 10,
   "metadata": {
    "id": "xMrbwYDDNFKu"
   },
   "outputs": [],
   "source": [
    "# una predicción perfecta, porque los datos después de la transformación se ajustan a una tendencia lineal perfecta.\n"
   ]
  },
  {
   "cell_type": "code",
   "execution_count": 11,
   "metadata": {
    "id": "FNLvRe08CUE5"
   },
   "outputs": [],
   "source": [
    "# Restauremos los datos a sus valores originales y hagámoslo mediante transformadores personalizados mediante canalización.\n",
    "\n",
    "train = df.iloc[:6]\n",
    "test = df.iloc[6:]\n",
    "\n",
    "train_X = train.drop('y', axis=1)\n",
    "train_y = train.y\n",
    "\n",
    "test_X = test.drop('y', axis=1)\n",
    "test_y = test.y"
   ]
  },
  {
   "cell_type": "code",
   "execution_count": 12,
   "metadata": {
    "id": "SD08IkZP-Lam"
   },
   "outputs": [],
   "source": [
    "# Creamos una clase transformadora\n",
    "\n",
    "#__init__: este es el constructor. Se llama cuando se inicializa el pipeline.\n",
    "#fit(): Se llama cuando hacemos fit en el pipeline.\n",
    "#transform(): se llama cuando usamos fit o transform en el pipeline\n",
    "\n",
    "class ExperimentalTransformer(BaseEstimator, TransformerMixin):\n",
    "  def __init__(self):\n",
    "    print('\\n>>>>>>>init() called.\\n')\n",
    "\n",
    "  def fit(self, X, y = None):\n",
    "    print('\\n>>>>>>>fit() called.\\n')\n",
    "    return self\n",
    "\n",
    "  def transform(self, X, y = None):\n",
    "    print('\\n>>>>>>>transform() called.\\n')\n",
    "    X_ = X.copy() # creamos una copia para evitar cambios en el conjunto de datos original\n",
    "    X_.X2 = 2 * np.sqrt(X_.X2)\n",
    "    return X_"
   ]
  },
  {
   "cell_type": "code",
   "execution_count": 13,
   "metadata": {
    "colab": {
     "base_uri": "https://localhost:8080/"
    },
    "id": "spUiscMUPY83",
    "outputId": "d08cfaf9-6616-4c85-dac7-89a6ff6e6da0"
   },
   "outputs": [
    {
     "name": "stdout",
     "output_type": "stream",
     "text": [
      "create pipeline 1\n",
      "fit pipeline 1\n",
      "predict via pipeline 1\n",
      "\n",
      "[49.5 38.5]\n",
      "RMSE: 22.299103120977758\n",
      "\n"
     ]
    }
   ],
   "source": [
    "# sin transformación de entrada - para validar que obtenemos los mismos resultados que antes\n",
    "\n",
    "\n",
    "print(\"create pipeline 1\")\n",
    "pipe1 = Pipeline(steps=[\n",
    "                       ('linear_model', LinearRegression())\n",
    "])\n",
    "\n",
    "print(\"fit pipeline 1\")\n",
    "pipe1.fit(train_X, train_y)\n",
    "\n",
    "print(\"predict via pipeline 1\")\n",
    "preds1 = pipe1.predict(test_X)\n",
    "\n",
    "print(f\"\\n{preds1}\")  # should be [13.72113586 16.93334467]\n",
    "print(f\"RMSE: {np.sqrt(mean_squared_error(test_y, preds1))}\\n\")"
   ]
  },
  {
   "cell_type": "code",
   "execution_count": 14,
   "metadata": {
    "colab": {
     "base_uri": "https://localhost:8080/"
    },
    "id": "OFTnGVww_kIi",
    "outputId": "16e4a021-30b8-459c-f37a-e9a884a9d4c0"
   },
   "outputs": [
    {
     "name": "stdout",
     "output_type": "stream",
     "text": [
      "create pipeline 2\n",
      "\n",
      ">>>>>>>init() called.\n",
      "\n",
      "fit pipeline 2\n",
      "\n",
      ">>>>>>>fit() called.\n",
      "\n",
      "\n",
      ">>>>>>>transform() called.\n",
      "\n",
      "predict via pipeline 2\n",
      "\n",
      ">>>>>>>transform() called.\n",
      "\n",
      "\n",
      "[210.83746596  13.20265974]\n",
      "RMSE: 137.66696358393065\n",
      "\n"
     ]
    }
   ],
   "source": [
    "# con transformation de entradas\n",
    "\n",
    "print(\"create pipeline 2\")\n",
    "pipe2 = Pipeline(steps=[\n",
    "                       ('experimental_trans', ExperimentalTransformer()),    # esto dispara una llamda a __init__\n",
    "                       ('linear_model', LinearRegression())\n",
    "])\n",
    "\n",
    "# una sintaxis alternativa y más corta para hacer lo anterior, sin nombrar cada paso, es:\n",
    "#pipe2 = make_pipeline(ExperimentalTransformer(), LinearRegression())\n",
    "\n",
    "print(\"fit pipeline 2\")\n",
    "pipe2.fit(train_X, train_y)\n",
    "\n",
    "print(\"predict via pipeline 2\")\n",
    "preds2 = pipe2.predict(test_X)\n",
    "\n",
    "print(f\"\\n{preds2}\")  # should be [14. 17.]\n",
    "print(f\"RMSE: {np.sqrt(mean_squared_error(test_y, preds2))}\\n\")\n",
    "\n",
    "\n",
    "\n",
    "# a. __init__ se llama cuando inicializamos pipe2.\n",
    "\n",
    "# b. fit() y transform() se llaman cuando llamamos fit() con los datos de entrenamiento.\n",
    "# Esto es necesario para transformar las características de entrada mientras se intenta predecir train_y.\n",
    "\n",
    "# c. transform() se llama  cuando usamos predict(test_X): las características de prueba de entrada deben tener raíz cuadrada y duplicarse también antes de hacer predicciones."
   ]
  },
  {
   "cell_type": "code",
   "execution_count": 15,
   "metadata": {
    "id": "7QAxS_dkSpnC"
   },
   "outputs": [],
   "source": [
    "# Hemos asumido en la función transform() de nuestro ExperimentalTransformer que el nombre de la columna es X2. No lo hagamos y\n",
    "# pasar el nombre de la columna a través del constructor, __init__()"
   ]
  },
  {
   "cell_type": "code",
   "execution_count": 16,
   "metadata": {
    "id": "qB8bhqpdS-2m"
   },
   "outputs": [],
   "source": [
    "class ExperimentalTransformer_2(BaseEstimator, TransformerMixin):\n",
    "\n",
    "  # agregue otro parámetro adicional, solo para mostrar su uso, mientras estamos en ello\n",
    "\n",
    "  def __init__(self, feature_name, additional_param = \"Pandebono\"):\n",
    "    print('\\n>>>>>>>init() ExperimentalTransformer_2 called.\\n')\n",
    "    self.feature_name = feature_name\n",
    "    self.additional_param = additional_param\n",
    "\n",
    "  def fit(self, X, y = None):\n",
    "    print('\\n>>>>>>>fit() called.\\n')\n",
    "    print(f'\\nadditional param ExperimentalTransformer_2 ~~~~~ {self.additional_param}\\n')\n",
    "    return self\n",
    "\n",
    "  def transform(self, X, y = None):\n",
    "    print('\\n>>>>>>>transform() called.\\n')\n",
    "    X_ = X.copy() # creating a copy to avoid changes to original dataset\n",
    "    X_[self.feature_name] = 2 * np.sqrt(X_[self.feature_name])\n",
    "    return X_"
   ]
  },
  {
   "cell_type": "code",
   "execution_count": 17,
   "metadata": {
    "id": "A_WkBgdkTOLU"
   },
   "outputs": [],
   "source": [
    "# tenga cuidado de mantener el nombre del parámetro exactamente igual en el argumento de la función, así como\n",
    "# la variable de la clase (feature_name). Cambiar eso causará problemas más adelante cuando también\n",
    "# intenta transformar la característica objetivo (y). Provoca una doble llamada a __init__ por algún motivo."
   ]
  },
  {
   "cell_type": "code",
   "execution_count": 18,
   "metadata": {
    "colab": {
     "base_uri": "https://localhost:8080/"
    },
    "id": "GB6WV6pUTuu-",
    "outputId": "e6e8b8b3-f4f1-4952-d3ce-8731f0d15e79"
   },
   "outputs": [
    {
     "name": "stdout",
     "output_type": "stream",
     "text": [
      "create pipeline 2\n",
      "\n",
      ">>>>>>>init() ExperimentalTransformer_2 called.\n",
      "\n",
      "fit pipeline 2\n",
      "\n",
      ">>>>>>>fit() called.\n",
      "\n",
      "\n",
      "additional param ExperimentalTransformer_2 ~~~~~ new\n",
      "\n",
      "\n",
      ">>>>>>>transform() called.\n",
      "\n",
      "predict via pipeline 2\n",
      "\n",
      ">>>>>>>transform() called.\n",
      "\n",
      "\n",
      "[210.83746596  13.20265974]\n",
      "RMSE: 137.66696358393065\n",
      "\n"
     ]
    }
   ],
   "source": [
    "print(\"create pipeline 2\")\n",
    "pipe2 = Pipeline(steps=[\n",
    "                       ('experimental_trans', ExperimentalTransformer_2('X2',additional_param='new')),\n",
    "                       ('linear_model', LinearRegression())\n",
    "])\n",
    "print(\"fit pipeline 2\")\n",
    "pipe2.fit(train_X, train_y)\n",
    "print(\"predict via pipeline 2\")\n",
    "preds2 = pipe2.predict(test_X)\n",
    "print(f\"\\n{preds2}\")  # should be [14. 17.]\n",
    "print(f\"RMSE: {np.sqrt(mean_squared_error(test_y, preds2))}\\n\")"
   ]
  },
  {
   "cell_type": "code",
   "execution_count": 19,
   "metadata": {
    "id": "jBLKFfxcVhE5"
   },
   "outputs": [],
   "source": [
    "# cuando es necesario realizar algún procesamiento previo y posterior\n",
    "### sqrt(y) = X1 + 2 * sqrt(X2)\n",
    "# Modificamos el dataframe  para que tenga el objetivo como cuadrados de los valores actuales:"
   ]
  },
  {
   "cell_type": "markdown",
   "metadata": {
    "id": "FDzQWtNdIxp6"
   },
   "source": [
    "![image.png](data:image/png;base64,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)"
   ]
  },
  {
   "cell_type": "code",
   "execution_count": 20,
   "metadata": {
    "colab": {
     "base_uri": "https://localhost:8080/",
     "height": 301
    },
    "id": "uqY60SOGViBG",
    "outputId": "8ef0854b-c3f2-41b5-d0af-e0e104ec3c71"
   },
   "outputs": [
    {
     "data": {
      "text/html": [
       "<div>\n",
       "<style scoped>\n",
       "    .dataframe tbody tr th:only-of-type {\n",
       "        vertical-align: middle;\n",
       "    }\n",
       "\n",
       "    .dataframe tbody tr th {\n",
       "        vertical-align: top;\n",
       "    }\n",
       "\n",
       "    .dataframe thead th {\n",
       "        text-align: right;\n",
       "    }\n",
       "</style>\n",
       "<table border=\"1\" class=\"dataframe\">\n",
       "  <thead>\n",
       "    <tr style=\"text-align: right;\">\n",
       "      <th></th>\n",
       "      <th>X1</th>\n",
       "      <th>X2</th>\n",
       "      <th>y</th>\n",
       "    </tr>\n",
       "  </thead>\n",
       "  <tbody>\n",
       "    <tr>\n",
       "      <th>0</th>\n",
       "      <td>1</td>\n",
       "      <td>16</td>\n",
       "      <td>81</td>\n",
       "    </tr>\n",
       "    <tr>\n",
       "      <th>1</th>\n",
       "      <td>4</td>\n",
       "      <td>36</td>\n",
       "      <td>256</td>\n",
       "    </tr>\n",
       "    <tr>\n",
       "      <th>2</th>\n",
       "      <td>1</td>\n",
       "      <td>16</td>\n",
       "      <td>81</td>\n",
       "    </tr>\n",
       "    <tr>\n",
       "      <th>3</th>\n",
       "      <td>2</td>\n",
       "      <td>9</td>\n",
       "      <td>64</td>\n",
       "    </tr>\n",
       "    <tr>\n",
       "      <th>4</th>\n",
       "      <td>3</td>\n",
       "      <td>36</td>\n",
       "      <td>225</td>\n",
       "    </tr>\n",
       "    <tr>\n",
       "      <th>5</th>\n",
       "      <td>2</td>\n",
       "      <td>49</td>\n",
       "      <td>256</td>\n",
       "    </tr>\n",
       "    <tr>\n",
       "      <th>6</th>\n",
       "      <td>4</td>\n",
       "      <td>25</td>\n",
       "      <td>196</td>\n",
       "    </tr>\n",
       "    <tr>\n",
       "      <th>7</th>\n",
       "      <td>5</td>\n",
       "      <td>36</td>\n",
       "      <td>289</td>\n",
       "    </tr>\n",
       "  </tbody>\n",
       "</table>\n",
       "</div>"
      ],
      "text/plain": [
       "   X1  X2    y\n",
       "0   1  16   81\n",
       "1   4  36  256\n",
       "2   1  16   81\n",
       "3   2   9   64\n",
       "4   3  36  225\n",
       "5   2  49  256\n",
       "6   4  25  196\n",
       "7   5  36  289"
      ]
     },
     "execution_count": 20,
     "metadata": {},
     "output_type": "execute_result"
    }
   ],
   "source": [
    "\n",
    "df = pd.DataFrame(columns=['X1', 'X2', 'y'], data=[\n",
    "                                                   [1,16,81],\n",
    "                                                   [4,36,256],\n",
    "                                                   [1,16,81],\n",
    "                                                   [2,9,64],\n",
    "                                                   [3,36,225],\n",
    "                                                   [2,49,256],\n",
    "                                                   [4,25,196],\n",
    "                                                   [5,36,289]\n",
    "])\n",
    "\n",
    "### sqrt(y) = X1 + 2 * sqrt(X2)\n",
    "# formula de los datos\n",
    "\n",
    "df\n"
   ]
  },
  {
   "cell_type": "code",
   "execution_count": 21,
   "metadata": {
    "id": "jfdNA7mbDcqv"
   },
   "outputs": [],
   "source": [
    "train = df.iloc[:6]\n",
    "test = df.iloc[6:]\n",
    "\n",
    "train_X = train.drop('y', axis=1)\n",
    "train_y = train.y\n",
    "\n",
    "test_X = test.drop('y', axis=1)\n",
    "test_y = test.y"
   ]
  },
  {
   "cell_type": "code",
   "execution_count": 22,
   "metadata": {
    "colab": {
     "base_uri": "https://localhost:8080/"
    },
    "id": "FSAo6KGzViSe",
    "outputId": "915d00c2-a59b-4f04-b384-2de94e55eb7a"
   },
   "outputs": [
    {
     "name": "stdout",
     "output_type": "stream",
     "text": [
      "create pipeline 1\n",
      "fit pipeline 1\n",
      "predict via pipeline 1\n",
      "\n",
      "[200.34790002 279.04738423]\n",
      "RMSE: 7.6798045284091065\n",
      "\n"
     ]
    }
   ],
   "source": [
    "# let's see model's performance with no input & target transformations:\n",
    "print(\"create pipeline 1\")\n",
    "pipe1 = Pipeline(steps=[\n",
    "                       ('linear_model', LinearRegression())\n",
    "])\n",
    "print(\"fit pipeline 1\")\n",
    "pipe1.fit(train_X, train_y)\n",
    "print(\"predict via pipeline 1\")\n",
    "preds1 = pipe1.predict(test_X)\n",
    "print(f\"\\n{preds1}\")\n",
    "print(f\"RMSE: {np.sqrt(mean_squared_error(test_y, preds1))}\\n\")"
   ]
  },
  {
   "cell_type": "code",
   "execution_count": 23,
   "metadata": {
    "colab": {
     "base_uri": "https://localhost:8080/"
    },
    "id": "i_PwqZaTVihG",
    "outputId": "04d7750c-fb23-4425-c7ba-ae055bccc6d6"
   },
   "outputs": [
    {
     "name": "stdout",
     "output_type": "stream",
     "text": [
      "create pipeline 2\n",
      "\n",
      ">>>>>>>init() ExperimentalTransformer_2 called.\n",
      "\n",
      "fit pipeline 2\n",
      "\n",
      ">>>>>>>fit() called.\n",
      "\n",
      "\n",
      "additional param ExperimentalTransformer_2 ~~~~~ Pandebono\n",
      "\n",
      "\n",
      ">>>>>>>transform() called.\n",
      "\n",
      "predict via pipeline 2\n",
      "\n",
      ">>>>>>>transform() called.\n",
      "\n",
      "\n",
      "[207.42690058 280.94152047]\n",
      "RMSE: 9.887192456534317\n",
      "\n"
     ]
    }
   ],
   "source": [
    "# with input transformation but no target transformation\n",
    "print(\"create pipeline 2\")\n",
    "pipe2 = Pipeline(steps=[\n",
    "                       ('experimental_trans', ExperimentalTransformer_2('X2')),\n",
    "                       ('linear_model', LinearRegression())\n",
    "])\n",
    "print(\"fit pipeline 2\")\n",
    "pipe2.fit(train_X, train_y)\n",
    "print(\"predict via pipeline 2\")\n",
    "preds2 = pipe2.predict(test_X)\n",
    "print(f\"\\n{preds2}\")\n",
    "print(f\"RMSE: {np.sqrt(mean_squared_error(test_y, preds2))}\\n\")"
   ]
  },
  {
   "cell_type": "code",
   "execution_count": 24,
   "metadata": {
    "id": "9Ug-zMF0YISg"
   },
   "outputs": [],
   "source": [
    "# we'll now write a custom target transformer.\n",
    "# this needs 2 functions, one to transform and another to inverse-transform"
   ]
  },
  {
   "cell_type": "code",
   "execution_count": 25,
   "metadata": {
    "id": "TskWUHTcVit_"
   },
   "outputs": [],
   "source": [
    "def target_transform(target):\n",
    "  print('\\n*****************target_transform() called.\\n')\n",
    "  target_ = target.copy()\n",
    "  target_ = np.sqrt(target_)\n",
    "  return target_\n",
    "\n",
    "def inverse_target_transform(target):\n",
    "  print('\\n*****************inverse_target_transform() called.\\n')\n",
    "  target_ = target.copy()\n",
    "  target_ = target_ ** 2\n",
    "  return target_"
   ]
  },
  {
   "cell_type": "code",
   "execution_count": 26,
   "metadata": {
    "colab": {
     "base_uri": "https://localhost:8080/"
    },
    "id": "OwNd-9__Ywx9",
    "outputId": "6ba94183-ae11-45e1-9927-54159754d8a7"
   },
   "outputs": [
    {
     "name": "stdout",
     "output_type": "stream",
     "text": [
      "create pipeline 3\n",
      "\n",
      ">>>>>>>init() ExperimentalTransformer_2 called.\n",
      "\n",
      "fit pipeline 3 [fit Model]\n",
      "\n",
      "*****************target_transform() called.\n",
      "\n",
      "\n",
      "*****************inverse_target_transform() called.\n",
      "\n",
      "\n",
      "*****************target_transform() called.\n",
      "\n",
      "\n",
      "*****************inverse_target_transform() called.\n",
      "\n",
      "\n",
      "*****************target_transform() called.\n",
      "\n",
      "\n",
      ">>>>>>>init() ExperimentalTransformer_2 called.\n",
      "\n",
      "\n",
      ">>>>>>>fit() called.\n",
      "\n",
      "\n",
      "additional param ExperimentalTransformer_2 ~~~~~ Pandebono\n",
      "\n",
      "\n",
      ">>>>>>>transform() called.\n",
      "\n",
      "predict via pipeline 3 [Model]\n",
      "\n",
      ">>>>>>>transform() called.\n",
      "\n",
      "\n",
      "*****************inverse_target_transform() called.\n",
      "\n",
      "\n",
      "[196. 289.]\n",
      "RMSE: 0.0\n",
      "\n"
     ]
    }
   ],
   "source": [
    "# with input transformation & target transformation\n",
    "print(\"create pipeline 3\")\n",
    "# no change in input pipeline\n",
    "pipe3 = Pipeline(steps=[\n",
    "                       ('experimental_trans', ExperimentalTransformer_2('X2')),\n",
    "                       ('linear_model', LinearRegression())\n",
    "])\n",
    "\n",
    "# create a TargetTransformer\n",
    "model = TransformedTargetRegressor(regressor=pipe3,\n",
    "                                   func=target_transform,\n",
    "                                   inverse_func=inverse_target_transform)\n",
    "\n",
    "print(\"fit pipeline 3 [fit Model]\")\n",
    "# observe la sintaxis diferente aquí; ahora usamos model en lugar de 'pipe3'\n",
    "\n",
    "model.fit(train_X, train_y)\n",
    "print(\"predict via pipeline 3 [Model]\")\n",
    "\n",
    "preds3 = model.predict(test_X) # same here, using 'model' to predict\n",
    "print(f\"\\n{preds3}\")  # should be [196. 289.]\n",
    "print(f\"RMSE: {np.sqrt(mean_squared_error(test_y, preds3))}\\n\")"
   ]
  },
  {
   "cell_type": "code",
   "execution_count": 27,
   "metadata": {
    "id": "YYQ0HystcAmr"
   },
   "outputs": [],
   "source": [
    "#predicciones perfectas!"
   ]
  },
  {
   "cell_type": "code",
   "execution_count": 28,
   "metadata": {
    "id": "YTM-qswpcCwf"
   },
   "outputs": [],
   "source": [
    "# Podemos usar Transformers integrados en lugar de funciones definidas por el usuario. Ejemplo-\n",
    "# model = TransformedTargetRegressor(regresor=pipe3, transformador=PowerTransformer())\n",
    "# o\n",
    "# model = TransformedTargetRegressor(regresor=pipe3, transformador=StandardScaler())\n",
    "# El uso de un transformador incorporado no requiere que especifiquemos inverse_transformer() ya que eso se realiza internamente."
   ]
  },
  {
   "cell_type": "code",
   "execution_count": 29,
   "metadata": {
    "id": "mmEs3zaKEneX"
   },
   "outputs": [],
   "source": [
    "# Es posible tener un transformador personalizado dentro de TransformedTargetRegressor\n",
    "# El transformador personalizado es igual a los anteriores pero tendrá una función inverse_transform adicional\n",
    "# Sólo se requiere implementar la función inverse_transform(). He aquí un ejemplo:"
   ]
  },
  {
   "cell_type": "code",
   "execution_count": 30,
   "metadata": {
    "id": "yBZ-S3y9_AQz"
   },
   "outputs": [],
   "source": [
    "class CustomTargetTransformer(BaseEstimator, TransformerMixin):\n",
    "  # no need to implement __init__ in this particular case\n",
    "\n",
    "  def fit(self, target):\n",
    "    return self\n",
    "\n",
    "  def transform(self, target):\n",
    "    print('\\n%%%%%%%%%%%%%%%custom_target_transform() called.\\n')\n",
    "    target_ = target.copy()\n",
    "    target_ = np.sqrt(target_)\n",
    "    return target_\n",
    "\n",
    "  # need to implement this too\n",
    "  def inverse_transform(self, target):\n",
    "    print('\\n%%%%%%%%%%%%%%%custom_inverse_target_transform() called.\\n')\n",
    "    target_ = target.copy()\n",
    "    target_ = target_ ** 2\n",
    "    return target_"
   ]
  },
  {
   "cell_type": "code",
   "execution_count": 31,
   "metadata": {
    "colab": {
     "base_uri": "https://localhost:8080/"
    },
    "id": "rsCBFs6o-gBN",
    "outputId": "7acb54f9-0641-487a-96e7-62305c2cb509"
   },
   "outputs": [
    {
     "name": "stdout",
     "output_type": "stream",
     "text": [
      "create pipeline 3.1\n",
      "\n",
      ">>>>>>>init() ExperimentalTransformer_2 called.\n",
      "\n",
      "fit pipeline 3.1 [fit Model]\n",
      "\n",
      "%%%%%%%%%%%%%%%custom_target_transform() called.\n",
      "\n",
      "\n",
      ">>>>>>>init() ExperimentalTransformer_2 called.\n",
      "\n",
      "\n",
      ">>>>>>>fit() called.\n",
      "\n",
      "\n",
      "additional param ExperimentalTransformer_2 ~~~~~ Pandebono\n",
      "\n",
      "\n",
      ">>>>>>>transform() called.\n",
      "\n",
      "predict via pipeline 3.1 [Model]\n",
      "\n",
      ">>>>>>>transform() called.\n",
      "\n",
      "\n",
      "%%%%%%%%%%%%%%%custom_inverse_target_transform() called.\n",
      "\n",
      "\n",
      "[196. 289.]\n",
      "RMSE: 0.0\n",
      "\n"
     ]
    }
   ],
   "source": [
    "# with input transformation & target transformation\n",
    "print(\"create pipeline 3.1\")\n",
    "# no change in input pipeline\n",
    "pipe3_1 = Pipeline(steps=[\n",
    "                       ('experimental_trans', ExperimentalTransformer_2('X2')),\n",
    "                       ('linear_model', LinearRegression())\n",
    "])\n",
    "\n",
    "# create a TargetTransformer\n",
    "# By default, the provided functions are checked at each fit to be the inverse of each other. However, it is\n",
    "# possible to bypass this checking by setting check_inverse to False.\n",
    "model = TransformedTargetRegressor(regressor=pipe3_1,\n",
    "                                   transformer=CustomTargetTransformer(),\n",
    "                                   check_inverse=False) # avoid repeated calls\n",
    "\n",
    "print(\"fit pipeline 3.1 [fit Model]\")\n",
    "model.fit(train_X, train_y)\n",
    "print(\"predict via pipeline 3.1 [Model]\")\n",
    "preds3_1 = model.predict(test_X)\n",
    "print(f\"\\n{preds3_1}\")  # should be [196. 289.]\n",
    "print(f\"RMSE: {np.sqrt(mean_squared_error(test_y, preds3_1))}\\n\")"
   ]
  },
  {
   "cell_type": "code",
   "execution_count": 32,
   "metadata": {
    "id": "Ly2iew-uEhdU"
   },
   "outputs": [],
   "source": [
    "# veamos ahora cómo obtener y configurar los parámetros del modelo. También almacenaremos en caché el transformador en\n",
    "# evitar cálculos repetidos y hacerlo más eficiente."
   ]
  },
  {
   "cell_type": "code",
   "execution_count": 33,
   "metadata": {
    "colab": {
     "base_uri": "https://localhost:8080/"
    },
    "id": "I0KB3cjDC5ho",
    "outputId": "a2c94105-66e2-4ea7-98af-31db8cd2c024"
   },
   "outputs": [
    {
     "data": {
      "text/plain": [
       "{'check_inverse': False,\n",
       " 'func': None,\n",
       " 'inverse_func': None,\n",
       " 'regressor__memory': None,\n",
       " 'regressor__steps': [('experimental_trans',\n",
       "   ExperimentalTransformer_2(feature_name='X2')),\n",
       "  ('linear_model', LinearRegression())],\n",
       " 'regressor__verbose': False,\n",
       " 'regressor__experimental_trans': ExperimentalTransformer_2(feature_name='X2'),\n",
       " 'regressor__linear_model': LinearRegression(),\n",
       " 'regressor__experimental_trans__additional_param': 'Pandebono',\n",
       " 'regressor__experimental_trans__feature_name': 'X2',\n",
       " 'regressor__linear_model__copy_X': True,\n",
       " 'regressor__linear_model__fit_intercept': True,\n",
       " 'regressor__linear_model__n_jobs': None,\n",
       " 'regressor__linear_model__positive': False,\n",
       " 'regressor': Pipeline(steps=[('experimental_trans',\n",
       "                  ExperimentalTransformer_2(feature_name='X2')),\n",
       "                 ('linear_model', LinearRegression())]),\n",
       " 'transformer': CustomTargetTransformer()}"
      ]
     },
     "execution_count": 33,
     "metadata": {},
     "output_type": "execute_result"
    }
   ],
   "source": [
    "# Obtener todos los parámetros de nuestro modelo\n",
    "model.get_params()"
   ]
  },
  {
   "cell_type": "code",
   "execution_count": 34,
   "metadata": {
    "id": "h729iuXW26OI"
   },
   "outputs": [],
   "source": [
    "from tempfile import mkdtemp\n",
    "from shutil import rmtree\n",
    "# read about caching and side effect at: https://scikit-learn.org/stable/modules/compose.html?highlight=transformedtargetregressor#pipeline-chaining-estimators"
   ]
  },
  {
   "cell_type": "code",
   "execution_count": 37,
   "metadata": {
    "colab": {
     "base_uri": "https://localhost:8080/"
    },
    "id": "ev2o5jU-Cpcb",
    "outputId": "da2db3a5-6abf-43c0-e8d1-1817dc3e7fec"
   },
   "outputs": [
    {
     "name": "stdout",
     "output_type": "stream",
     "text": [
      "create pipeline 4\n",
      "\n",
      ">>>>>>>init() ExperimentalTransformer_2 called.\n",
      "\n",
      "fit pipeline 4 [fit Model]\n",
      "\n",
      "*****************target_transform() called.\n",
      "\n",
      "\n",
      ">>>>>>>init() ExperimentalTransformer_2 called.\n",
      "\n",
      "\n",
      ">>>>>>>init() ExperimentalTransformer_2 called.\n",
      "\n",
      "\n",
      ">>>>>>>fit() called.\n",
      "\n",
      "\n",
      "additional param ExperimentalTransformer_2 ~~~~~ Pandebono\n",
      "\n",
      "\n",
      ">>>>>>>transform() called.\n",
      "\n",
      "predict via pipeline 4 [Model]\n",
      "\n",
      ">>>>>>>transform() called.\n",
      "\n",
      "\n",
      "*****************inverse_target_transform() called.\n",
      "\n",
      "\n",
      "[196. 289.]\n",
      "RMSE: 0.0\n",
      "\n"
     ]
    }
   ],
   "source": [
    "cachedir = mkdtemp()\n",
    "print(\"create pipeline 4\")\n",
    "pipe4 = Pipeline(steps=[\n",
    "                        # incorrect column name passed\n",
    "                       ('experimental_trans', ExperimentalTransformer_2('X9')),  # Error\n",
    "                       ('linear_model', LinearRegression())\n",
    "], memory=cachedir)\n",
    "# create a TargetTransformer\n",
    "model = TransformedTargetRegressor(regressor=pipe4,\n",
    "                                   func=target_transform,\n",
    "                                   inverse_func=inverse_target_transform,\n",
    "                                   check_inverse=False)\n",
    "# correcting the column name using set_params()\n",
    "model.set_params(regressor__experimental_trans__feature_name = 'X2')\n",
    "\n",
    "print(\"fit pipeline 4 [fit Model]\")\n",
    "model.fit(train_X, train_y)\n",
    "\n",
    "print(\"predict via pipeline 4 [Model]\")\n",
    "preds4 = model.predict(test_X)\n",
    "\n",
    "print(f\"\\n{preds4}\")  # should be [196. 289.]\n",
    "print(f\"RMSE: {np.sqrt(mean_squared_error(test_y, preds4))}\\n\")\n",
    "\n",
    "# Clear the cache directory when you don't need it anymore\n",
    "rmtree(cachedir)"
   ]
  },
  {
   "cell_type": "code",
   "execution_count": 38,
   "metadata": {
    "colab": {
     "base_uri": "https://localhost:8080/"
    },
    "id": "OrfvyB01Nn3o",
    "outputId": "ef1f1a77-baae-4d51-fda5-8cc2e5013677"
   },
   "outputs": [
    {
     "name": "stdout",
     "output_type": "stream",
     "text": [
      "create pipeline 4\n",
      "\n",
      ">>>>>>>init() ExperimentalTransformer_2 called.\n",
      "\n",
      "fit pipeline 4 [fit Model]\n",
      "\n",
      "*****************target_transform() called.\n",
      "\n",
      "\n",
      ">>>>>>>init() ExperimentalTransformer_2 called.\n",
      "\n",
      "\n",
      ">>>>>>>init() ExperimentalTransformer_2 called.\n",
      "\n",
      "\n",
      ">>>>>>>fit() called.\n",
      "\n",
      "\n",
      "additional param ExperimentalTransformer_2 ~~~~~ Pandebono\n",
      "\n",
      "\n",
      ">>>>>>>transform() called.\n",
      "\n",
      "predict via pipeline 4 [Model]\n",
      "\n",
      ">>>>>>>transform() called.\n",
      "\n",
      "\n",
      "*****************inverse_target_transform() called.\n",
      "\n",
      "\n",
      "[196. 289.]\n",
      "RMSE: 0.0\n",
      "\n"
     ]
    }
   ],
   "source": [
    "cachedir = mkdtemp()\n",
    "print(\"create pipeline 4\")\n",
    "pipe4 = Pipeline(steps=[\n",
    "                        # incorrect column name passed\n",
    "                       ('experimental_trans', ExperimentalTransformer_2('X1')),\n",
    "                       ('linear_model', LinearRegression())\n",
    "], memory=cachedir)\n",
    "# create a TargetTransformer\n",
    "model = TransformedTargetRegressor(regressor=pipe4,\n",
    "                                   func=target_transform,\n",
    "                                   inverse_func=inverse_target_transform,\n",
    "                                   check_inverse=False)\n",
    "# correcting the column name using set_params()\n",
    "model.set_params(regressor__experimental_trans__feature_name = 'X2')\n",
    "\n",
    "print(\"fit pipeline 4 [fit Model]\")\n",
    "model.fit(train_X, train_y)\n",
    "print(\"predict via pipeline 4 [Model]\")\n",
    "preds4 = model.predict(test_X)\n",
    "print(f\"\\n{preds4}\")  # should be [196. 289.]\n",
    "print(f\"RMSE: {np.sqrt(mean_squared_error(test_y, preds4))}\\n\")\n",
    "\n",
    "# Clear the cache directory when you don't need it anymore\n",
    "rmtree(cachedir)"
   ]
  },
  {
   "cell_type": "code",
   "execution_count": 39,
   "metadata": {
    "id": "_5ZCrirHIADe"
   },
   "outputs": [],
   "source": [
    "# PRÓXIMOS PASOS:\n",
    "\n",
    "# 1. FeatureUnion y ColumnTransformer\n",
    "# Algunos buenos ejemplos:\n",
    "\n",
    "# https://scikit-learn.org/stable/modules/compose.html#featureunion-composite-feature-spaces\n",
    "# https://scikit-learn.org/stable/modules/generated/sklearn.compose.ColumnTransformer.html#sklearn.compose.ColumnTransformer\n",
    "\n",
    "\n",
    "# 2. Usando GridSearch con Pipelines\n",
    "\n",
    "# https://scikit-learn.org/stable/auto_examples/compose/plot_feature_union.html?highlight=pipeline\n"
   ]
  },
  {
   "cell_type": "code",
   "execution_count": null,
   "metadata": {
    "id": "M7b3qRdI3EMB"
   },
   "outputs": [],
   "source": []
  }
 ],
 "metadata": {
  "colab": {
   "include_colab_link": true,
   "provenance": []
  },
  "kernelspec": {
   "display_name": "Python 3 (ipykernel)",
   "language": "python",
   "name": "python3"
  },
  "language_info": {
   "codemirror_mode": {
    "name": "ipython",
    "version": 3
   },
   "file_extension": ".py",
   "mimetype": "text/x-python",
   "name": "python",
   "nbconvert_exporter": "python",
   "pygments_lexer": "ipython3",
   "version": "3.10.9"
  }
 },
 "nbformat": 4,
 "nbformat_minor": 1
}
